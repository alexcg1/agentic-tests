{
 "cells": [
  {
   "cell_type": "code",
   "execution_count": 65,
   "id": "b61e21bb-7ca7-4890-93bf-f179c09d86f4",
   "metadata": {},
   "outputs": [],
   "source": [
    "import requests\n",
    "import socket"
   ]
  },
  {
   "cell_type": "code",
   "execution_count": 20,
   "id": "356bb846-0343-4856-879e-d0fb6a6a523a",
   "metadata": {},
   "outputs": [],
   "source": [
    "model=\"llama3.2:1b\""
   ]
  },
  {
   "cell_type": "code",
   "execution_count": 116,
   "id": "1a75acc3-a7d7-4a71-b1eb-1122a58180ab",
   "metadata": {},
   "outputs": [],
   "source": [
    "dummy_ip = \"46.189.45.146\""
   ]
  },
  {
   "cell_type": "markdown",
   "id": "165bf74b-aff6-4739-989d-4c5065ce4e3e",
   "metadata": {},
   "source": [
    "## Define tools functions"
   ]
  },
  {
   "cell_type": "code",
   "execution_count": 133,
   "id": "812dc683-d574-4bc1-b491-b21e57dee685",
   "metadata": {},
   "outputs": [
    {
     "name": "stdout",
     "output_type": "stream",
     "text": [
      "Local IP address: 10.5.49.56\n"
     ]
    }
   ],
   "source": [
    "def get_local_ip():\n",
    "    try:\n",
    "        s = socket.socket(socket.AF_INET, socket.SOCK_DGRAM)\n",
    "        s.connect((\"8.8.8.8\", 80))\n",
    "        ip_address = s.getsockname()[0]\n",
    "        s.close()\n",
    "        return ip_address\n",
    "    except socket.error as e:\n",
    "        print(f\"Error: {e}\")\n",
    "        return None\n",
    "\n",
    "# Example usage:\n",
    "local_ip = get_local_ip()\n",
    "if local_ip:\n",
    "    print(f\"Local IP address: {local_ip}\")\n",
    "\n",
    "# this fails in Jupyter so I'll cheat\n",
    "local_ip = dummy_ip"
   ]
  },
  {
   "cell_type": "code",
   "execution_count": 118,
   "id": "c1fa88de-61e6-4f06-9c41-a079a54c417e",
   "metadata": {},
   "outputs": [],
   "source": [
    "def get_location_by_ip(ip_address):\n",
    "    try:\n",
    "        response = requests.get(f\"http://ip-api.com/json/{ip_address}\")\n",
    "        response.raise_for_status()\n",
    "        data = response.json()\n",
    "\n",
    "        return data\n",
    "    except requests.exceptions.RequestException as e:\n",
    "        print(f\"Error: {e}\")\n",
    "        return None"
   ]
  },
  {
   "cell_type": "code",
   "execution_count": 110,
   "id": "6a3ea74f-ff85-4220-a6dd-ada480f0a715",
   "metadata": {},
   "outputs": [],
   "source": [
    "def get_city(ip_address=\"\": str) -> str:\n",
    "    if not ip_address:\n",
    "        ip_address = get_local_ip()\n",
    "\n",
    "    location = get_location_by_ip(ip_address)\n",
    "    return location[\"city\"]"
   ]
  },
  {
   "cell_type": "code",
   "execution_count": 119,
   "id": "85b4f9e3-c3a7-4e2d-8bc7-c63215b6d5a9",
   "metadata": {},
   "outputs": [],
   "source": [
    "weather_format = \"Current+weather+for+%l:+%C,+Temperature:+%t,+Feels+like:+%f,+Precipitation+(mm, next+3+hours):+%p,+Wind:+%w\"\n",
    "\n",
    "def get_current_weather(location: str = \"\") -> str:\n",
    "    \"\"\"\n",
    "    Get current weather forecast\n",
    "    Args:\n",
    "        location (str): The location for which to retrieve the weather forecast.\n",
    "            This can be a city name, a country name, or a specific geographic coordinate.\n",
    "\n",
    "    Returns:\n",
    "        str: The current weather forecast for the specified location, formatted as a string.\n",
    "\n",
    "    Notes:\n",
    "        This function uses the wttr.in API to retrieve the weather forecast.\n",
    "        The weather format is predefined and includes the current weather conditions,\n",
    "        temperature, feels-like temperature, precipitation, and wind.\n",
    "    \"\"\"\n",
    "    if not location:\n",
    "        ip_address = get_local_ip()\n",
    "        location = get_city(dummy_ip)\n",
    "        \n",
    "    url = f'http://wttr.in/{location}?format=\"{weather_format}\"'\n",
    "    response = requests.get(url)\n",
    "    # print(response.text)\n",
    "\n",
    "    return response.text"
   ]
  },
  {
   "cell_type": "code",
   "execution_count": 111,
   "id": "3586b951-d2bb-4d57-8a76-c3d803dc5619",
   "metadata": {},
   "outputs": [
    {
     "data": {
      "text/plain": [
       "'Berlin'"
      ]
     },
     "execution_count": 111,
     "metadata": {},
     "output_type": "execute_result"
    }
   ],
   "source": [
    "get_city(\"46.189.45.146\")"
   ]
  },
  {
   "cell_type": "code",
   "execution_count": 120,
   "id": "7a627f9f-7432-4da7-97d5-4b1c6b195890",
   "metadata": {},
   "outputs": [
    {
     "name": "stdout",
     "output_type": "stream",
     "text": [
      "\"Current weather for Berlin: Partly cloudy, Temperature: +11°C, Feels like: +9°C, Precipitation (mm, next 3 hours): 0.0mm, Wind: ↑23km/h\"\n"
     ]
    },
    {
     "data": {
      "text/plain": [
       "'\"Current weather for Berlin: Partly cloudy, Temperature: +11°C, Feels like: +9°C, Precipitation (mm, next 3 hours): 0.0mm, Wind: ↑23km/h\"'"
      ]
     },
     "execution_count": 120,
     "metadata": {},
     "output_type": "execute_result"
    }
   ],
   "source": [
    "get_current_weather()"
   ]
  },
  {
   "cell_type": "code",
   "execution_count": 136,
   "id": "ba7e793f-e14a-4115-8525-cab66211bfe2",
   "metadata": {},
   "outputs": [],
   "source": [
    "def make_friendly(string: str = \"\", model:str=model):\n",
    "    \"\"\"\n",
    "    Make a text string less terse, and more user-friendly for end-user to read\n",
    "    \"\"\"\n",
    "    messages = [\n",
    "    {\"role\": \"user\", \"content\": f\"Your task is to present this information in a human-readable, friendly manner: {string}. Don't include any preamble about the task. If it's a weather forecast, do it in the style of an eighties radio DJ giving a weather update\"}\n",
    "    ]\n",
    "    response = ollama.chat(\n",
    "    model=model,\n",
    "    messages=messages,\n",
    "    )\n",
    "\n",
    "    return response"
   ]
  },
  {
   "cell_type": "markdown",
   "id": "0451dfb2-e438-4b0a-9b46-c7ba408c0d3d",
   "metadata": {},
   "source": [
    "## Add tools"
   ]
  },
  {
   "cell_type": "code",
   "execution_count": 146,
   "id": "91598e5c-1f39-4ba9-a1d2-9b9fae7183ac",
   "metadata": {},
   "outputs": [],
   "source": [
    "tools=[\n",
    "        {\n",
    "            \"type\": \"function\",\n",
    "            \"function\": {\n",
    "                \"name\": \"get_current_weather\",\n",
    "                \"description\": \"Get the current weather for a city\",\n",
    "                \"parameters\": {\n",
    "                    \"type\": \"object\",\n",
    "                    \"properties\": {\n",
    "                        \"city\": {\n",
    "                            \"type\": \"string\",\n",
    "                            \"description\": \"The name of the city\",\n",
    "                        },\n",
    "                    },\n",
    "                    \"required\": [\"city\"],\n",
    "                },\n",
    "            },\n",
    "        },\n",
    "    {\n",
    "            \"type\": \"function\",\n",
    "            \"function\": {\n",
    "                \"name\": \"get_city\",\n",
    "                \"description\": \"Get the city for a given IP address\",\n",
    "                \"parameters\": {\n",
    "                    \"type\": \"object\",\n",
    "                    \"properties\": {\n",
    "                        \"ip_address\": {\n",
    "                            \"type\": \"string\",\n",
    "                            \"description\": \"The IP address to get the city for\",\n",
    "                            \"default\": \"\",\n",
    "                        },\n",
    "                    },\n",
    "                    \"required\": [],\n",
    "                },\n",
    "            },\n",
    "        },\n",
    "        {\n",
    "        \"type\": \"function\",\n",
    "        \"function\": {\n",
    "            \"name\": \"make_friendly\",\n",
    "            \"description\": \"Make a text string less terse, and more user-friendly for end-user to read\",\n",
    "            \"parameters\": {\n",
    "                \"type\": \"object\",\n",
    "                \"properties\": {\n",
    "                    \"string\": {\n",
    "                        \"type\": \"string\",\n",
    "                        \"description\": \"The input text to be made more friendly\"\n",
    "                    },\n",
    "                    \"model\": {\n",
    "                        \"type\": \"string\",\n",
    "                        \"description\": \"The name of the language model to use for generating the friendly text\",\n",
    "                        \"default\": model\n",
    "                    }\n",
    "                },\n",
    "                \"required\": []\n",
    "            }\n",
    "        }\n",
    "    }\n",
    "    ]"
   ]
  },
  {
   "cell_type": "markdown",
   "id": "2b4ad384-1b8c-4e29-ab86-36c8ff1dbae5",
   "metadata": {},
   "source": [
    "## Extract function"
   ]
  },
  {
   "cell_type": "code",
   "execution_count": 152,
   "id": "e09cb79b-38f5-4541-83c7-a8b83b08aa1b",
   "metadata": {},
   "outputs": [],
   "source": [
    "import ollama\n",
    "\n",
    "def get_response(prompt: str, tools: list=tools) -> dict:\n",
    "    response = ollama.chat(\n",
    "        model=model,\n",
    "        messages=[{\"role\": \"user\", \"content\": prompt}],\n",
    "        tools=tools,\n",
    "    )\n",
    "\n",
    "    return response"
   ]
  },
  {
   "cell_type": "code",
   "execution_count": 153,
   "id": "a90e233c-166c-491d-9415-b35e59ae4447",
   "metadata": {},
   "outputs": [],
   "source": [
    "response = get_response(f\"Give a friendly weather forecast for {location['city']}? Return your answer in a friendly manner\")"
   ]
  },
  {
   "cell_type": "code",
   "execution_count": 154,
   "id": "af37442f-94f6-4f3e-ac73-f10cba3643de",
   "metadata": {},
   "outputs": [
    {
     "data": {
      "text/plain": [
       "ChatResponse(model='llama3.2:1b', created_at='2025-01-27T15:00:44.850516787Z', done=True, done_reason='stop', total_duration=958407908, load_duration=56230482, prompt_eval_count=312, prompt_eval_duration=59000000, eval_count=18, eval_duration=841000000, message=Message(role='assistant', content='', images=None, tool_calls=[ToolCall(function=Function(name='get_current_weather', arguments={'city': 'Berlin'}))]))"
      ]
     },
     "execution_count": 154,
     "metadata": {},
     "output_type": "execute_result"
    }
   ],
   "source": [
    "response"
   ]
  },
  {
   "cell_type": "markdown",
   "id": "33792a9e-c1d4-4c5a-9dc3-e41fb830d8a6",
   "metadata": {},
   "source": [
    "### Only first function for now for testing"
   ]
  },
  {
   "cell_type": "code",
   "execution_count": 129,
   "id": "4168ce23-3eb9-4d15-b485-b66bbc0ca15c",
   "metadata": {},
   "outputs": [],
   "source": [
    "func_name = response.message.tool_calls[0].function.name"
   ]
  },
  {
   "cell_type": "code",
   "execution_count": 130,
   "id": "ed7e85fb-c9a5-45a1-b589-28db5aef3821",
   "metadata": {},
   "outputs": [],
   "source": [
    "if func_name in globals():\n",
    "    func = globals()[func_name]\n",
    "else:\n",
    "    print(\"Can't find function\")"
   ]
  },
  {
   "cell_type": "code",
   "execution_count": 131,
   "id": "0a1f4783-b0cb-47a8-a9ed-dedc7374aab7",
   "metadata": {},
   "outputs": [],
   "source": [
    "params = response.message.tool_calls[0].function.arguments"
   ]
  },
  {
   "cell_type": "code",
   "execution_count": 132,
   "id": "268c4cad-9bdf-43c2-a61b-4c0c08970192",
   "metadata": {},
   "outputs": [
    {
     "name": "stdout",
     "output_type": "stream",
     "text": [
      "\"Current weather for  'Berlin'}: Partly cloudy, Temperature: +11°C, Feels like: +9°C, Precipitation (mm, next 3 hours): 0.0mm, Wind: ↑23km/h\"\n"
     ]
    }
   ],
   "source": [
    "func_output = func(params)"
   ]
  },
  {
   "cell_type": "markdown",
   "id": "e4d62414-63f2-4811-93df-cd5f33497fc6",
   "metadata": {},
   "source": [
    "## Make friendly and readable"
   ]
  },
  {
   "cell_type": "code",
   "execution_count": 138,
   "id": "7fb149db-a3fc-4007-8fc8-cb0ae765aa2b",
   "metadata": {},
   "outputs": [
    {
     "data": {
      "text/plain": [
       "ChatResponse(model='llama3.2:1b', created_at='2025-01-27T14:56:39.189643461Z', done=True, done_reason='stop', total_duration=17870736103, load_duration=1371770478, prompt_eval_count=222, prompt_eval_duration=4734000000, eval_count=222, eval_duration=11762000000, message=Message(role='assistant', content='{\\n\\n\"get_current_weather\": {\\n\"city\": \"New York\"\\n},\\n\\n\"nearby_events\": [\\n{\\n\"event_name\": \"Fireworks at Times Square\",\\n\"date\": \"2024-03-15T20:00:00+00:00\",\\n\"location\": \"New York, NY\",\\n\"organizer\": \"The City of New York\",\\n\"distance_from_user_location\": 10.5\\n},\\n{\\n\"event_name\": \"Beach Festival at Ocean Park\",\\n\"date\": \"2024-03-15T14:00:00+00:00\",\\n\"location\": \"Los Angeles, CA\",\\n\"organizer\": \"City of Los Angeles\",\\n\"distance_from_user_location\": 22.1\\n},\\n{\\n\"event_name\": \"Stadium Show at Dodger Stadium\",\\n\"date\": \"2024-03-15T18:00:00+00:00\",\\n\"location\": \"Los Angeles, CA\",\\n\"organizer\": \"Los Angeles Convention and Visitors Bureau\",\\n\"distance_from_user_location\": 21.6\\n}\\n]\\n\\n}', images=None, tool_calls=None))"
      ]
     },
     "execution_count": 138,
     "metadata": {},
     "output_type": "execute_result"
    }
   ],
   "source": [
    "get_response(f\"Get the user's city then find nearby events\")"
   ]
  },
  {
   "cell_type": "code",
   "execution_count": 106,
   "id": "ec8d117f-6637-48f6-a66c-4c6df3ea0fe9",
   "metadata": {},
   "outputs": [],
   "source": [
    "# messages = [\n",
    "#     {\"role\": \"user\", \"content\": f\"Your task is to present this information in a human-readable, friendly manner: {func_output}. Don't include any preamble about the task. If it's a weather forecast, do it in the style of an eighties radio DJ giving a weather update\"}\n",
    "# ]"
   ]
  },
  {
   "cell_type": "code",
   "execution_count": 107,
   "id": "960ef335-c651-45a2-88f5-c9efd08daf65",
   "metadata": {},
   "outputs": [],
   "source": [
    "# response = ollama.chat(\n",
    "#     model=model,\n",
    "#     messages=messages,\n",
    "#     # tools=tools,\n",
    "# )"
   ]
  },
  {
   "cell_type": "code",
   "execution_count": 109,
   "id": "bbf7ca7f-1a4a-43d1-bdb9-ec316cfa5e19",
   "metadata": {},
   "outputs": [
    {
     "data": {
      "text/plain": [
       "'\"Alright, Berlin fans! Check out this sweet forecast for you. It\\'s partly cloudy tonight, with temps rising to +11°C and feeling like +9°C - that\\'s right, it\\'s gonna feel like 5 degrees warmer than the actual temp. Now, I know what you\\'re thinking... precipitation? Well, let me tell you, we\\'re looking at a good amount of that in the next few hours, with just 0.0mm showing up in the first three frames. And as for the wind, it\\'s gonna be blowing at +23km/h - that\\'s pretty strong, if I do say so myself.\\n\\nStay cool out there, Berlin! Get your sunglasses ready and your coffee warm.\"'"
      ]
     },
     "execution_count": 109,
     "metadata": {},
     "output_type": "execute_result"
    }
   ],
   "source": [
    "forecast = response.message.content"
   ]
  },
  {
   "cell_type": "markdown",
   "id": "98d33278-79ec-4261-9490-771086158395",
   "metadata": {},
   "source": [
    "## Read it out"
   ]
  },
  {
   "cell_type": "code",
   "execution_count": 157,
   "id": "702be85c-1977-4512-950a-fd27707f3b7c",
   "metadata": {},
   "outputs": [],
   "source": [
    "import os\n",
    "\n",
    "os.environ[\"REPLICATE_API_TOKEN\"] = \"r8_InimumOLV1btQl6aH4IylyYV2OwnlOm2t5pem\""
   ]
  },
  {
   "cell_type": "code",
   "execution_count": 160,
   "id": "822ee607-dc84-4efe-ba4c-933c9d4828e3",
   "metadata": {},
   "outputs": [],
   "source": [
    "text = '\"Alright, Berlin fans! Check out this sweet forecast for you. It\\'s partly cloudy tonight, with temps rising to +11°C and feeling like +9°C - that\\'s right, it\\'s gonna feel like 5 degrees warmer than the actual temp. Now, I know what you\\'re thinking... precipitation? Well, let me tell you, we\\'re looking at a good amount of that in the next few hours, with just 0.0mm showing up in the first three frames. And as for the wind, it\\'s gonna be blowing at +23km/h - that\\'s pretty strong, if I do say so myself.\\n\\nStay cool out there, Berlin! Get your sunglasses ready and your coffee warm.\"'"
   ]
  },
  {
   "cell_type": "code",
   "execution_count": 159,
   "id": "ea025fc9-1032-4073-93c4-b752e97c84f1",
   "metadata": {},
   "outputs": [],
   "source": [
    "import replicate\n",
    "\n",
    "def read_aloud(text: str):\n",
    "    output = replicate.run(\n",
    "        \"platform-kit/mars5-tts:6aed0f11f3ba7b13d59ab3228355e7b1ea943479673cc57e10e99ba766536811\",\n",
    "        input={\n",
    "            \"text\": text,\n",
    "            \"top_k\": 1,\n",
    "            \"temperature\": 1.1,\n",
    "            \"freq_penalty\": 5,\n",
    "            \"ref_audio_file\": \"https://replicate.delivery/pbxt/L9a6SelzU0B2DIWeNpkNR0CKForWSbkswoUP69L0NLjLswVV/voice_sample.wav\",\n",
    "            \"rep_penalty_window\": 150,\n",
    "            \"ref_audio_transcript\": \"Hi there. I'm your new voice clone. Try your best to upload quality audio.\"\n",
    "        }\n",
    "    )\n",
    "\n",
    "    return output\n",
    "    # print(output)"
   ]
  },
  {
   "cell_type": "code",
   "execution_count": 162,
   "id": "8d55c4e8-7c54-444f-bd18-e23de76185e6",
   "metadata": {},
   "outputs": [],
   "source": [
    "speech = read_aloud(text)"
   ]
  },
  {
   "cell_type": "code",
   "execution_count": 163,
   "id": "64fd793d-6e77-4f78-a2a7-743f48cb6d89",
   "metadata": {},
   "outputs": [
    {
     "data": {
      "text/plain": [
       "<replicate.helpers.FileOutput at 0x7a78bd2d1600>"
      ]
     },
     "execution_count": 163,
     "metadata": {},
     "output_type": "execute_result"
    }
   ],
   "source": [
    "output"
   ]
  },
  {
   "cell_type": "code",
   "execution_count": 164,
   "id": "a2d12a3c-ca9f-48c2-9b9b-97a57f76032b",
   "metadata": {},
   "outputs": [
    {
     "data": {
      "text/plain": [
       "'https://replicate.delivery/yhqm/lvrNQSNfGLU7JKYrWFuFzCx5elUnLPP2fNB52feGU4DHQtKhC/output.mp3'"
      ]
     },
     "execution_count": 164,
     "metadata": {},
     "output_type": "execute_result"
    }
   ],
   "source": [
    "output.url"
   ]
  },
  {
   "cell_type": "code",
   "execution_count": 168,
   "id": "1ee7fe83-4b3e-43ef-8ef9-40dc5a174af6",
   "metadata": {},
   "outputs": [
    {
     "name": "stdout",
     "output_type": "stream",
     "text": [
      "main.py  ollama_tools.ipynb  ollama-tools.py  output.mp3  _posts  raccoon.jpg\n"
     ]
    }
   ],
   "source": [
    "!ls"
   ]
  },
  {
   "cell_type": "code",
   "execution_count": 167,
   "id": "1aaa5696-3bf5-415c-b0aa-527f7fe35675",
   "metadata": {},
   "outputs": [
    {
     "name": "stdout",
     "output_type": "stream",
     "text": [
      "--2025-01-27 16:41:25--  https://replicate.delivery/yhqm/lvrNQSNfGLU7JKYrWFuFzCx5elUnLPP2fNB52feGU4DHQtKhC/output.mp3\n",
      "Loaded CA certificate '/etc/ssl/certs/ca-certificates.crt'\n",
      "Resolving replicate.delivery (replicate.delivery)... 34.107.252.52, 2600:1901:0:8c88::\n",
      "Connecting to replicate.delivery (replicate.delivery)|34.107.252.52|:443... connected.\n",
      "HTTP request sent, awaiting response... 200 OK\n",
      "Length: 20589 (20K) [audio/mpeg]\n",
      "Saving to: ‘output.mp3’\n",
      "\n",
      "output.mp3          100%[===================>]  20.11K  --.-KB/s    in 0.01s   \n",
      "\n",
      "2025-01-27 16:41:25 (1.89 MB/s) - ‘output.mp3’ saved [20589/20589]\n",
      "\n"
     ]
    }
   ],
   "source": [
    "!wget {output.url}"
   ]
  },
  {
   "cell_type": "code",
   "execution_count": 169,
   "id": "1b9823a8-72aa-419f-9949-2bbb47338494",
   "metadata": {},
   "outputs": [],
   "source": [
    "filename = output.url.split(\"/\")[-1]"
   ]
  },
  {
   "cell_type": "code",
   "execution_count": 170,
   "id": "bd3f3725-c703-41dc-9248-7762f4fe05fc",
   "metadata": {},
   "outputs": [
    {
     "data": {
      "text/plain": [
       "'output.mp3'"
      ]
     },
     "execution_count": 170,
     "metadata": {},
     "output_type": "execute_result"
    }
   ],
   "source": [
    "filename"
   ]
  },
  {
   "cell_type": "code",
   "execution_count": 171,
   "id": "60924979-4b86-4547-85a5-fa44f0817b80",
   "metadata": {},
   "outputs": [
    {
     "name": "stdout",
     "output_type": "stream",
     "text": [
      "Playing raw data 'output.mp3' : Unsigned 8 bit, Rate 8000 Hz, Mono\n"
     ]
    }
   ],
   "source": [
    "!aplay {filename}"
   ]
  },
  {
   "cell_type": "code",
   "execution_count": null,
   "id": "29691821-beee-4d62-b7ad-8275d78c1682",
   "metadata": {},
   "outputs": [],
   "source": []
  }
 ],
 "metadata": {
  "kernelspec": {
   "display_name": "Python 3 (ipykernel)",
   "language": "python",
   "name": "python3"
  },
  "language_info": {
   "codemirror_mode": {
    "name": "ipython",
    "version": 3
   },
   "file_extension": ".py",
   "mimetype": "text/x-python",
   "name": "python",
   "nbconvert_exporter": "python",
   "pygments_lexer": "ipython3",
   "version": "3.10.16"
  }
 },
 "nbformat": 4,
 "nbformat_minor": 5
}
